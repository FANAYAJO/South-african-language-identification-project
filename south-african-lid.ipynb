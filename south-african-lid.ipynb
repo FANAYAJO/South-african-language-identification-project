{
 "cells": [
  {
   "cell_type": "code",
   "execution_count": 1,
   "id": "aa7a2454",
   "metadata": {
    "_cell_guid": "b1076dfc-b9ad-4769-8c92-a6c4dae69d19",
    "_uuid": "8f2839f25d086af736a60e9eeb907d3b93b6e0e5",
    "execution": {
     "iopub.execute_input": "2022-03-31T10:38:11.261435Z",
     "iopub.status.busy": "2022-03-31T10:38:11.260273Z",
     "iopub.status.idle": "2022-03-31T10:38:11.272148Z",
     "shell.execute_reply": "2022-03-31T10:38:11.272846Z",
     "shell.execute_reply.started": "2022-03-31T09:45:52.081905Z"
    },
    "papermill": {
     "duration": 0.050289,
     "end_time": "2022-03-31T10:38:11.273193",
     "exception": false,
     "start_time": "2022-03-31T10:38:11.222904",
     "status": "completed"
    },
    "tags": []
   },
   "outputs": [
    {
     "name": "stdout",
     "output_type": "stream",
     "text": [
      "/kaggle/input/south-african-language-identification/sample_submission.csv\n",
      "/kaggle/input/south-african-language-identification/test_set.csv\n",
      "/kaggle/input/south-african-language-identification/train_set.csv\n"
     ]
    }
   ],
   "source": [
    "# This Python 3 environment comes with many helpful analytics libraries installed\n",
    "# It is defined by the kaggle/python Docker image: https://github.com/kaggle/docker-python\n",
    "# For example, here's several helpful packages to load\n",
    "\n",
    "import numpy as np # linear algebra\n",
    "import pandas as pd # data processing, CSV file I/O (e.g. pd.read_csv)\n",
    "\n",
    "# Input data files are available in the read-only \"../input/\" directory\n",
    "# For example, running this (by clicking run or pressing Shift+Enter) will list all files under the input directory\n",
    "\n",
    "import os\n",
    "for dirname, _, filenames in os.walk('/kaggle/input'):\n",
    "    for filename in filenames:\n",
    "        print(os.path.join(dirname, filename))\n",
    "\n",
    "# You can write up to 20GB to the current directory (/kaggle/working/) that gets preserved as output when you create a version using \"Save & Run All\" \n",
    "# You can also write temporary files to /kaggle/temp/, but they won't be saved outside of the current session"
   ]
  },
  {
   "cell_type": "markdown",
   "id": "38fccb0c",
   "metadata": {
    "papermill": {
     "duration": 0.033049,
     "end_time": "2022-03-31T10:38:11.341957",
     "exception": false,
     "start_time": "2022-03-31T10:38:11.308908",
     "status": "completed"
    },
    "tags": []
   },
   "source": [
    "# 1. Importing packages"
   ]
  },
  {
   "cell_type": "code",
   "execution_count": 2,
   "id": "09ef8ff0",
   "metadata": {
    "execution": {
     "iopub.execute_input": "2022-03-31T10:38:11.412067Z",
     "iopub.status.busy": "2022-03-31T10:38:11.411443Z",
     "iopub.status.idle": "2022-03-31T10:38:13.256495Z",
     "shell.execute_reply": "2022-03-31T10:38:13.255940Z",
     "shell.execute_reply.started": "2022-03-31T09:46:19.716774Z"
    },
    "papermill": {
     "duration": 1.881417,
     "end_time": "2022-03-31T10:38:13.256643",
     "exception": false,
     "start_time": "2022-03-31T10:38:11.375226",
     "status": "completed"
    },
    "tags": []
   },
   "outputs": [],
   "source": [
    "# Packages for data analysis\n",
    "import pandas as pd\n",
    "import numpy as np\n",
    "import time\n",
    "\n",
    "# Packages for visualizations\n",
    "import seaborn as sns\n",
    "import matplotlib.style as style\n",
    "\n",
    "# Packages for preprocessing\n",
    "import nltk\n",
    "import string\n",
    "import re\n",
    "from textblob import TextBlob\n",
    "from sklearn.feature_extraction.text import TfidfVectorizer\n",
    "\n",
    "# Packages for training models\n",
    "from sklearn.pipeline import Pipeline\n",
    "from sklearn.linear_model import LogisticRegression, SGDClassifier\n",
    "from sklearn.naive_bayes import MultinomialNB, ComplementNB\n",
    "from sklearn.svm import LinearSVC, SVC\n",
    "from sklearn.model_selection import train_test_split\n",
    "from sklearn.model_selection import GridSearchCV, KFold, cross_val_score\n",
    "from sklearn.model_selection import RepeatedStratifiedKFold\n",
    "from sklearn.neighbors import KNeighborsClassifier\n",
    "from sklearn.tree import DecisionTreeClassifier\n",
    "from sklearn.ensemble import GradientBoostingClassifier\n",
    "from sklearn.ensemble import RandomForestClassifier\n",
    "from sklearn.neural_network import MLPClassifier\n",
    "from sklearn import metrics\n",
    "import xgboost as xgb\n",
    "\n",
    "# Model Evaluation Packages\n",
    "from sklearn.metrics import accuracy_score, precision_score, recall_score\n",
    "from sklearn.metrics import confusion_matrix, classification_report, f1_score\n",
    "from sklearn.metrics import make_scorer\n",
    "\n",
    "import matplotlib.pyplot as plt\n",
    "%matplotlib inline\n",
    "\n",
    "# Style\n",
    "sns.set(font_scale=1.5)\n",
    "style.use('seaborn-pastel')\n",
    "style.use('seaborn-poster')"
   ]
  },
  {
   "cell_type": "code",
   "execution_count": 3,
   "id": "6974217a",
   "metadata": {
    "execution": {
     "iopub.execute_input": "2022-03-31T10:38:13.338534Z",
     "iopub.status.busy": "2022-03-31T10:38:13.330584Z",
     "iopub.status.idle": "2022-03-31T10:38:13.460630Z",
     "shell.execute_reply": "2022-03-31T10:38:13.461129Z",
     "shell.execute_reply.started": "2022-03-31T09:47:07.468326Z"
    },
    "papermill": {
     "duration": 0.169925,
     "end_time": "2022-03-31T10:38:13.461326",
     "exception": false,
     "start_time": "2022-03-31T10:38:13.291401",
     "status": "completed"
    },
    "tags": []
   },
   "outputs": [
    {
     "name": "stdout",
     "output_type": "stream",
     "text": [
      "[nltk_data] Downloading package vader_lexicon to\n",
      "[nltk_data]     /usr/share/nltk_data...\n",
      "[nltk_data]   Package vader_lexicon is already up-to-date!\n"
     ]
    },
    {
     "data": {
      "text/plain": [
       "True"
      ]
     },
     "execution_count": 3,
     "metadata": {},
     "output_type": "execute_result"
    }
   ],
   "source": [
    "nltk.download('vader_lexicon')"
   ]
  },
  {
   "cell_type": "markdown",
   "id": "5b4202c5",
   "metadata": {
    "papermill": {
     "duration": 0.034528,
     "end_time": "2022-03-31T10:38:13.531094",
     "exception": false,
     "start_time": "2022-03-31T10:38:13.496566",
     "status": "completed"
    },
    "tags": []
   },
   "source": [
    "# 2. Loading of dataset"
   ]
  },
  {
   "cell_type": "code",
   "execution_count": 4,
   "id": "370daaee",
   "metadata": {
    "execution": {
     "iopub.execute_input": "2022-03-31T10:38:13.606541Z",
     "iopub.status.busy": "2022-03-31T10:38:13.605933Z",
     "iopub.status.idle": "2022-03-31T10:38:13.858550Z",
     "shell.execute_reply": "2022-03-31T10:38:13.859291Z",
     "shell.execute_reply.started": "2022-03-31T09:51:47.698129Z"
    },
    "papermill": {
     "duration": 0.291378,
     "end_time": "2022-03-31T10:38:13.859465",
     "exception": false,
     "start_time": "2022-03-31T10:38:13.568087",
     "status": "completed"
    },
    "tags": []
   },
   "outputs": [],
   "source": [
    "# importing the dataset\n",
    "train = pd.read_csv('../input/south-african-language-identification/train_set.csv')\n",
    "test = pd.read_csv('../input/south-african-language-identification/test_set.csv')\n",
    "sample_submission = pd.read_csv('../input/south-african-language-identification/sample_submission.csv')\n"
   ]
  },
  {
   "cell_type": "markdown",
   "id": "0f1fc5b4",
   "metadata": {
    "papermill": {
     "duration": 0.034489,
     "end_time": "2022-03-31T10:38:13.930170",
     "exception": false,
     "start_time": "2022-03-31T10:38:13.895681",
     "status": "completed"
    },
    "tags": []
   },
   "source": []
  },
  {
   "cell_type": "code",
   "execution_count": 5,
   "id": "d807710d",
   "metadata": {
    "execution": {
     "iopub.execute_input": "2022-03-31T10:38:14.004399Z",
     "iopub.status.busy": "2022-03-31T10:38:14.003342Z",
     "iopub.status.idle": "2022-03-31T10:38:14.018652Z",
     "shell.execute_reply": "2022-03-31T10:38:14.019242Z",
     "shell.execute_reply.started": "2022-03-31T09:54:11.581704Z"
    },
    "papermill": {
     "duration": 0.05421,
     "end_time": "2022-03-31T10:38:14.019397",
     "exception": false,
     "start_time": "2022-03-31T10:38:13.965187",
     "status": "completed"
    },
    "tags": []
   },
   "outputs": [
    {
     "data": {
      "text/html": [
       "<div>\n",
       "<style scoped>\n",
       "    .dataframe tbody tr th:only-of-type {\n",
       "        vertical-align: middle;\n",
       "    }\n",
       "\n",
       "    .dataframe tbody tr th {\n",
       "        vertical-align: top;\n",
       "    }\n",
       "\n",
       "    .dataframe thead th {\n",
       "        text-align: right;\n",
       "    }\n",
       "</style>\n",
       "<table border=\"1\" class=\"dataframe\">\n",
       "  <thead>\n",
       "    <tr style=\"text-align: right;\">\n",
       "      <th></th>\n",
       "      <th>lang_id</th>\n",
       "      <th>text</th>\n",
       "    </tr>\n",
       "  </thead>\n",
       "  <tbody>\n",
       "    <tr>\n",
       "      <th>0</th>\n",
       "      <td>xho</td>\n",
       "      <td>umgaqo-siseko wenza amalungiselelo kumaziko ax...</td>\n",
       "    </tr>\n",
       "    <tr>\n",
       "      <th>1</th>\n",
       "      <td>xho</td>\n",
       "      <td>i-dha iya kuba nobulumko bokubeka umsebenzi na...</td>\n",
       "    </tr>\n",
       "    <tr>\n",
       "      <th>2</th>\n",
       "      <td>eng</td>\n",
       "      <td>the province of kwazulu-natal department of tr...</td>\n",
       "    </tr>\n",
       "    <tr>\n",
       "      <th>3</th>\n",
       "      <td>nso</td>\n",
       "      <td>o netefatša gore o ba file dilo ka moka tše le...</td>\n",
       "    </tr>\n",
       "    <tr>\n",
       "      <th>4</th>\n",
       "      <td>ven</td>\n",
       "      <td>khomishini ya ndinganyiso ya mbeu yo ewa maana...</td>\n",
       "    </tr>\n",
       "  </tbody>\n",
       "</table>\n",
       "</div>"
      ],
      "text/plain": [
       "  lang_id                                               text\n",
       "0     xho  umgaqo-siseko wenza amalungiselelo kumaziko ax...\n",
       "1     xho  i-dha iya kuba nobulumko bokubeka umsebenzi na...\n",
       "2     eng  the province of kwazulu-natal department of tr...\n",
       "3     nso  o netefatša gore o ba file dilo ka moka tše le...\n",
       "4     ven  khomishini ya ndinganyiso ya mbeu yo ewa maana..."
      ]
     },
     "execution_count": 5,
     "metadata": {},
     "output_type": "execute_result"
    }
   ],
   "source": [
    "train.head()"
   ]
  },
  {
   "cell_type": "code",
   "execution_count": 6,
   "id": "8eca1562",
   "metadata": {
    "execution": {
     "iopub.execute_input": "2022-03-31T10:38:14.094261Z",
     "iopub.status.busy": "2022-03-31T10:38:14.093270Z",
     "iopub.status.idle": "2022-03-31T10:38:14.102035Z",
     "shell.execute_reply": "2022-03-31T10:38:14.102578Z",
     "shell.execute_reply.started": "2022-03-31T09:53:30.617936Z"
    },
    "papermill": {
     "duration": 0.047588,
     "end_time": "2022-03-31T10:38:14.102750",
     "exception": false,
     "start_time": "2022-03-31T10:38:14.055162",
     "status": "completed"
    },
    "tags": []
   },
   "outputs": [
    {
     "data": {
      "text/html": [
       "<div>\n",
       "<style scoped>\n",
       "    .dataframe tbody tr th:only-of-type {\n",
       "        vertical-align: middle;\n",
       "    }\n",
       "\n",
       "    .dataframe tbody tr th {\n",
       "        vertical-align: top;\n",
       "    }\n",
       "\n",
       "    .dataframe thead th {\n",
       "        text-align: right;\n",
       "    }\n",
       "</style>\n",
       "<table border=\"1\" class=\"dataframe\">\n",
       "  <thead>\n",
       "    <tr style=\"text-align: right;\">\n",
       "      <th></th>\n",
       "      <th>index</th>\n",
       "      <th>text</th>\n",
       "    </tr>\n",
       "  </thead>\n",
       "  <tbody>\n",
       "    <tr>\n",
       "      <th>0</th>\n",
       "      <td>1</td>\n",
       "      <td>Mmasepala, fa maemo a a kgethegileng a letlele...</td>\n",
       "    </tr>\n",
       "    <tr>\n",
       "      <th>1</th>\n",
       "      <td>2</td>\n",
       "      <td>Uzakwaziswa ngokufaneleko nakungafuneka eminye...</td>\n",
       "    </tr>\n",
       "    <tr>\n",
       "      <th>2</th>\n",
       "      <td>3</td>\n",
       "      <td>Tshivhumbeo tshi fana na ngano dza vhathu.</td>\n",
       "    </tr>\n",
       "    <tr>\n",
       "      <th>3</th>\n",
       "      <td>4</td>\n",
       "      <td>Kube inja nelikati betingevakala kutsi titsini...</td>\n",
       "    </tr>\n",
       "    <tr>\n",
       "      <th>4</th>\n",
       "      <td>5</td>\n",
       "      <td>Winste op buitelandse valuta.</td>\n",
       "    </tr>\n",
       "  </tbody>\n",
       "</table>\n",
       "</div>"
      ],
      "text/plain": [
       "   index                                               text\n",
       "0      1  Mmasepala, fa maemo a a kgethegileng a letlele...\n",
       "1      2  Uzakwaziswa ngokufaneleko nakungafuneka eminye...\n",
       "2      3         Tshivhumbeo tshi fana na ngano dza vhathu.\n",
       "3      4  Kube inja nelikati betingevakala kutsi titsini...\n",
       "4      5                      Winste op buitelandse valuta."
      ]
     },
     "execution_count": 6,
     "metadata": {},
     "output_type": "execute_result"
    }
   ],
   "source": [
    "test.head()"
   ]
  },
  {
   "cell_type": "markdown",
   "id": "8f85e554",
   "metadata": {
    "papermill": {
     "duration": 0.036047,
     "end_time": "2022-03-31T10:38:14.174943",
     "exception": false,
     "start_time": "2022-03-31T10:38:14.138896",
     "status": "completed"
    },
    "tags": []
   },
   "source": [
    "<h1 style=\"font-size:2em;color:#2467C0\">Exploring Data</h1>\n",
    "\n",
    "We will start our data exploration by generating simple statistics of the data. \n",
    "<br>\n",
    "Let us look at what the train data columns are, using a pandas attribute called \"info\", value counts..."
   ]
  },
  {
   "cell_type": "code",
   "execution_count": 7,
   "id": "4d952785",
   "metadata": {
    "execution": {
     "iopub.execute_input": "2022-03-31T10:38:14.250470Z",
     "iopub.status.busy": "2022-03-31T10:38:14.249554Z",
     "iopub.status.idle": "2022-03-31T10:38:14.277798Z",
     "shell.execute_reply": "2022-03-31T10:38:14.277145Z",
     "shell.execute_reply.started": "2022-03-31T09:56:48.837762Z"
    },
    "papermill": {
     "duration": 0.066809,
     "end_time": "2022-03-31T10:38:14.277939",
     "exception": false,
     "start_time": "2022-03-31T10:38:14.211130",
     "status": "completed"
    },
    "tags": []
   },
   "outputs": [
    {
     "name": "stdout",
     "output_type": "stream",
     "text": [
      "<class 'pandas.core.frame.DataFrame'>\n",
      "RangeIndex: 33000 entries, 0 to 32999\n",
      "Data columns (total 2 columns):\n",
      " #   Column   Non-Null Count  Dtype \n",
      "---  ------   --------------  ----- \n",
      " 0   lang_id  33000 non-null  object\n",
      " 1   text     33000 non-null  object\n",
      "dtypes: object(2)\n",
      "memory usage: 515.8+ KB\n"
     ]
    }
   ],
   "source": [
    "train.info()"
   ]
  },
  {
   "cell_type": "code",
   "execution_count": 8,
   "id": "f8957596",
   "metadata": {
    "execution": {
     "iopub.execute_input": "2022-03-31T10:38:14.361921Z",
     "iopub.status.busy": "2022-03-31T10:38:14.361271Z",
     "iopub.status.idle": "2022-03-31T10:38:14.364626Z",
     "shell.execute_reply": "2022-03-31T10:38:14.364087Z",
     "shell.execute_reply.started": "2022-03-31T09:55:53.656561Z"
    },
    "papermill": {
     "duration": 0.050387,
     "end_time": "2022-03-31T10:38:14.364771",
     "exception": false,
     "start_time": "2022-03-31T10:38:14.314384",
     "status": "completed"
    },
    "tags": []
   },
   "outputs": [
    {
     "data": {
      "text/plain": [
       "xho    3000\n",
       "eng    3000\n",
       "nso    3000\n",
       "ven    3000\n",
       "tsn    3000\n",
       "nbl    3000\n",
       "zul    3000\n",
       "ssw    3000\n",
       "tso    3000\n",
       "sot    3000\n",
       "afr    3000\n",
       "Name: lang_id, dtype: int64"
      ]
     },
     "execution_count": 8,
     "metadata": {},
     "output_type": "execute_result"
    }
   ],
   "source": [
    "train.lang_id.value_counts()"
   ]
  },
  {
   "cell_type": "markdown",
   "id": "d924a5c2",
   "metadata": {
    "execution": {
     "iopub.execute_input": "2022-03-31T10:01:35.557831Z",
     "iopub.status.busy": "2022-03-31T10:01:35.557453Z",
     "iopub.status.idle": "2022-03-31T10:01:35.566035Z",
     "shell.execute_reply": "2022-03-31T10:01:35.564662Z",
     "shell.execute_reply.started": "2022-03-31T10:01:35.557796Z"
    },
    "papermill": {
     "duration": 0.036608,
     "end_time": "2022-03-31T10:38:14.438207",
     "exception": false,
     "start_time": "2022-03-31T10:38:14.401599",
     "status": "completed"
    },
    "tags": []
   },
   "source": [
    "<strong><h1 style=\"font-size:1.1em;color:#1F618D\">Training Data</h1></strong>"
   ]
  },
  {
   "cell_type": "code",
   "execution_count": 9,
   "id": "a47ce81f",
   "metadata": {
    "execution": {
     "iopub.execute_input": "2022-03-31T10:38:14.540388Z",
     "iopub.status.busy": "2022-03-31T10:38:14.531589Z",
     "iopub.status.idle": "2022-03-31T10:38:14.547555Z",
     "shell.execute_reply": "2022-03-31T10:38:14.546906Z",
     "shell.execute_reply.started": "2022-03-31T10:04:33.159417Z"
    },
    "papermill": {
     "duration": 0.072297,
     "end_time": "2022-03-31T10:38:14.547709",
     "exception": false,
     "start_time": "2022-03-31T10:38:14.475412",
     "status": "completed"
    },
    "tags": []
   },
   "outputs": [
    {
     "name": "stdout",
     "output_type": "stream",
     "text": [
      "Shape of the dataset: (33000, 2)\n",
      "\n",
      "Total Number of unique tweets: 29948\n",
      "\n",
      "Total Number of missing values:\n",
      "lang_id    0\n",
      "text       0\n",
      "dtype: int64\n",
      "\n",
      "\n"
     ]
    }
   ],
   "source": [
    "print('Shape of the dataset: {}\\n'.format(train.shape))\n",
    "print('Total Number of unique tweets: {}\\n'.format(len(set(train['text']))))\n",
    "print('Total Number of missing values:\\n{}\\n\\n'.format(train.isnull().sum()))"
   ]
  },
  {
   "cell_type": "markdown",
   "id": "8ea3de34",
   "metadata": {
    "papermill": {
     "duration": 0.038191,
     "end_time": "2022-03-31T10:38:14.624703",
     "exception": false,
     "start_time": "2022-03-31T10:38:14.586512",
     "status": "completed"
    },
    "tags": []
   },
   "source": [
    "<strong><h1 style=\"font-size:1.1em;color:#1F618D\">Testing Data</h1></strong>"
   ]
  },
  {
   "cell_type": "code",
   "execution_count": 10,
   "id": "d7fd7d53",
   "metadata": {
    "execution": {
     "iopub.execute_input": "2022-03-31T10:38:14.711928Z",
     "iopub.status.busy": "2022-03-31T10:38:14.711116Z",
     "iopub.status.idle": "2022-03-31T10:38:14.714493Z",
     "shell.execute_reply": "2022-03-31T10:38:14.715006Z",
     "shell.execute_reply.started": "2022-03-31T10:05:48.79847Z"
    },
    "papermill": {
     "duration": 0.052565,
     "end_time": "2022-03-31T10:38:14.715210",
     "exception": false,
     "start_time": "2022-03-31T10:38:14.662645",
     "status": "completed"
    },
    "tags": []
   },
   "outputs": [
    {
     "name": "stdout",
     "output_type": "stream",
     "text": [
      "Shape of the dataset: (5682, 2)\n",
      "\n",
      "Total Number of unique tweets: 5459\n",
      "\n",
      "Total Number of missing values:\n",
      "index    0\n",
      "text     0\n",
      "dtype: int64\n",
      "\n"
     ]
    }
   ],
   "source": [
    "# Test Data\n",
    "print('Shape of the dataset: {}\\n'.format(test.shape))\n",
    "print('Total Number of unique tweets: {}\\n'.format(len(set(test['text']))))\n",
    "print('Total Number of missing values:\\n{}\\n' .format(test.isnull().sum()))"
   ]
  },
  {
   "cell_type": "markdown",
   "id": "68c2594e",
   "metadata": {
    "papermill": {
     "duration": 0.036983,
     "end_time": "2022-03-31T10:38:14.789823",
     "exception": false,
     "start_time": "2022-03-31T10:38:14.752840",
     "status": "completed"
    },
    "tags": []
   },
   "source": [
    " <h1 style=\"font-size:2em;color:#00000\">3. Data Preprocessing</h1>"
   ]
  },
  {
   "cell_type": "code",
   "execution_count": 11,
   "id": "57d47c1d",
   "metadata": {
    "execution": {
     "iopub.execute_input": "2022-03-31T10:38:14.868324Z",
     "iopub.status.busy": "2022-03-31T10:38:14.867326Z",
     "iopub.status.idle": "2022-03-31T10:38:14.873319Z",
     "shell.execute_reply": "2022-03-31T10:38:14.873932Z",
     "shell.execute_reply.started": "2022-03-31T10:07:37.213238Z"
    },
    "papermill": {
     "duration": 0.046694,
     "end_time": "2022-03-31T10:38:14.874108",
     "exception": false,
     "start_time": "2022-03-31T10:38:14.827414",
     "status": "completed"
    },
    "tags": []
   },
   "outputs": [],
   "source": [
    "def clean_text(text):\n",
    "    \"\"\"\n",
    "    This function uses regular expressions to remove html characters,\n",
    "    punctuation, numbers and any extra white space from each text\n",
    "    and then converts them to lowercase.\n",
    "\n",
    "    Input:\n",
    "    text: original text\n",
    "          datatype: string\n",
    "\n",
    "    Output:\n",
    "    texts: modified text\n",
    "           datatype: string\n",
    "    \"\"\"\n",
    "    # replace the html characters with \" \"\n",
    "    text=re.sub('<.*?>', ' ', text)\n",
    "#     Removal of numbers\n",
    "#    text = re.sub(r'\\d+', ' ', text)\n",
    "    # will replace newline with space\n",
    "    text = re.sub(\"\\n\",\" \",text)\n",
    "    # will convert to lower case\n",
    "    text = text.lower()\n",
    "    # will split and join the words\n",
    "    text=' '.join(text.split())\n",
    "    return text"
   ]
  },
  {
   "cell_type": "code",
   "execution_count": 12,
   "id": "39f24887",
   "metadata": {
    "execution": {
     "iopub.execute_input": "2022-03-31T10:38:14.953481Z",
     "iopub.status.busy": "2022-03-31T10:38:14.952493Z",
     "iopub.status.idle": "2022-03-31T10:38:15.271050Z",
     "shell.execute_reply": "2022-03-31T10:38:15.270470Z",
     "shell.execute_reply.started": "2022-03-31T10:07:45.459352Z"
    },
    "papermill": {
     "duration": 0.359432,
     "end_time": "2022-03-31T10:38:15.271210",
     "exception": false,
     "start_time": "2022-03-31T10:38:14.911778",
     "status": "completed"
    },
    "tags": []
   },
   "outputs": [],
   "source": [
    "# Application of the function to clean the tweets\n",
    "train['text'] = train['text'].apply(clean_text)\n",
    "test['text'] = test['text'].apply(clean_text)"
   ]
  },
  {
   "cell_type": "code",
   "execution_count": 13,
   "id": "5a5f37f8",
   "metadata": {
    "execution": {
     "iopub.execute_input": "2022-03-31T10:38:15.356742Z",
     "iopub.status.busy": "2022-03-31T10:38:15.355866Z",
     "iopub.status.idle": "2022-03-31T10:38:15.666449Z",
     "shell.execute_reply": "2022-03-31T10:38:15.665648Z",
     "shell.execute_reply.started": "2022-03-31T10:08:05.579784Z"
    },
    "papermill": {
     "duration": 0.358264,
     "end_time": "2022-03-31T10:38:15.666663",
     "exception": false,
     "start_time": "2022-03-31T10:38:15.308399",
     "status": "completed"
    },
    "tags": []
   },
   "outputs": [
    {
     "name": "stderr",
     "output_type": "stream",
     "text": [
      "/opt/conda/lib/python3.7/site-packages/ipykernel_launcher.py:2: FutureWarning: The default value of regex will change from True to False in a future version.\n",
      "  \n",
      "/opt/conda/lib/python3.7/site-packages/ipykernel_launcher.py:3: FutureWarning: The default value of regex will change from True to False in a future version.\n",
      "  This is separate from the ipykernel package so we can avoid doing imports until\n"
     ]
    }
   ],
   "source": [
    "# Replace '.txt' with 'text file'\n",
    "train[\"text\"] = train[\"text\"].str.replace(\".txt\", \" text file\")\n",
    "test[\"text\"] = test[\"text\"].str.replace(\".txt\", \" text file\")"
   ]
  },
  {
   "cell_type": "markdown",
   "id": "ce32d12f",
   "metadata": {
    "papermill": {
     "duration": 0.038318,
     "end_time": "2022-03-31T10:38:15.744428",
     "exception": false,
     "start_time": "2022-03-31T10:38:15.706110",
     "status": "completed"
    },
    "tags": []
   },
   "source": [
    "# 4. Feature Engineering "
   ]
  },
  {
   "cell_type": "markdown",
   "id": "99d6e03b",
   "metadata": {
    "papermill": {
     "duration": 0.038465,
     "end_time": "2022-03-31T10:38:15.821689",
     "exception": false,
     "start_time": "2022-03-31T10:38:15.783224",
     "status": "completed"
    },
    "tags": []
   },
   "source": [
    "### 4.1 Splitting out X (indepedent) and Y (target/dependent) variables"
   ]
  },
  {
   "cell_type": "code",
   "execution_count": 14,
   "id": "6da578b1",
   "metadata": {
    "execution": {
     "iopub.execute_input": "2022-03-31T10:38:15.902785Z",
     "iopub.status.busy": "2022-03-31T10:38:15.901769Z",
     "iopub.status.idle": "2022-03-31T10:38:15.906480Z",
     "shell.execute_reply": "2022-03-31T10:38:15.905969Z",
     "shell.execute_reply.started": "2022-03-31T10:12:35.836213Z"
    },
    "papermill": {
     "duration": 0.046457,
     "end_time": "2022-03-31T10:38:15.906619",
     "exception": false,
     "start_time": "2022-03-31T10:38:15.860162",
     "status": "completed"
    },
    "tags": []
   },
   "outputs": [],
   "source": [
    "X = train['text']\n",
    "y = train['lang_id']"
   ]
  },
  {
   "cell_type": "markdown",
   "id": "daa904a6",
   "metadata": {
    "papermill": {
     "duration": 0.038571,
     "end_time": "2022-03-31T10:38:15.984136",
     "exception": false,
     "start_time": "2022-03-31T10:38:15.945565",
     "status": "completed"
    },
    "tags": []
   },
   "source": [
    "### 4.2 Splitting of Training and Validation Sets"
   ]
  },
  {
   "cell_type": "code",
   "execution_count": 15,
   "id": "5df90e1d",
   "metadata": {
    "execution": {
     "iopub.execute_input": "2022-03-31T10:38:16.067540Z",
     "iopub.status.busy": "2022-03-31T10:38:16.066901Z",
     "iopub.status.idle": "2022-03-31T10:38:16.072555Z",
     "shell.execute_reply": "2022-03-31T10:38:16.073084Z",
     "shell.execute_reply.started": "2022-03-31T10:12:38.207999Z"
    },
    "papermill": {
     "duration": 0.050243,
     "end_time": "2022-03-31T10:38:16.073247",
     "exception": false,
     "start_time": "2022-03-31T10:38:16.023004",
     "status": "completed"
    },
    "tags": []
   },
   "outputs": [],
   "source": [
    "X_train, X_val, y_train, y_val = train_test_split(X, y, test_size=0.10)"
   ]
  },
  {
   "cell_type": "markdown",
   "id": "d63d4e1d",
   "metadata": {
    "papermill": {
     "duration": 0.038735,
     "end_time": "2022-03-31T10:38:16.150223",
     "exception": false,
     "start_time": "2022-03-31T10:38:16.111488",
     "status": "completed"
    },
    "tags": []
   },
   "source": [
    "# 5. Model Building "
   ]
  },
  {
   "cell_type": "markdown",
   "id": "91aec726",
   "metadata": {
    "papermill": {
     "duration": 0.038144,
     "end_time": "2022-03-31T10:38:16.227876",
     "exception": false,
     "start_time": "2022-03-31T10:38:16.189732",
     "status": "completed"
    },
    "tags": []
   },
   "source": [
    "### set up classifier"
   ]
  },
  {
   "cell_type": "code",
   "execution_count": 16,
   "id": "59e4bcfc",
   "metadata": {
    "execution": {
     "iopub.execute_input": "2022-03-31T10:38:16.308671Z",
     "iopub.status.busy": "2022-03-31T10:38:16.307682Z",
     "iopub.status.idle": "2022-03-31T10:38:16.314431Z",
     "shell.execute_reply": "2022-03-31T10:38:16.314988Z",
     "shell.execute_reply.started": "2022-03-31T10:12:41.017368Z"
    },
    "papermill": {
     "duration": 0.048559,
     "end_time": "2022-03-31T10:38:16.315156",
     "exception": false,
     "start_time": "2022-03-31T10:38:16.266597",
     "status": "completed"
    },
    "tags": []
   },
   "outputs": [],
   "source": [
    "\"\"\"\n",
    "Note: Some classifiers were commented out because\n",
    "they run for a very long time, \n",
    "\"\"\"\n",
    "classifiers = [LinearSVC(random_state=42),\n",
    "               # SVC(),\n",
    "               # tree.DecisionTreeClassifier(),\n",
    "               # RandomForestClassifier(n_estimators=100, max_depth=2,\n",
    "               #                      random_state=0, class_weight=\"balanced\"),\n",
    "               # MLPClassifier(alpha=1e-5,\n",
    "               #              hidden_layer_sizes=(5, 2),\n",
    "               #              random_state=42),\n",
    "               LogisticRegression(random_state=42,\n",
    "                                  multi_class='ovr',\n",
    "                                  n_jobs=1,\n",
    "                                  C=1e5,\n",
    "                                  max_iter=4000),\n",
    "               KNeighborsClassifier(n_neighbors=5),\n",
    "               MultinomialNB(),\n",
    "               ComplementNB(),\n",
    "               SGDClassifier(loss='hinge',\n",
    "                             penalty='l2',\n",
    "                             alpha=1e-3,\n",
    "                             random_state=42,\n",
    "                             max_iter=5,\n",
    "                             tol=None)\n",
    "               # GradientBoostingClassifier()\n",
    "               # xgb.XGBClassifier(learning_rate=0.1,\n",
    "               #                  n_estimators=1000,\n",
    "               #                  max_depth=5,\n",
    "               #                  min_child_weight=1,\n",
    "               #                  gamma=0,\n",
    "               #                  subsample=0.8,\n",
    "               #                  colsample_bytree=0.8,\n",
    "               #                  nthread=4,\n",
    "               #                  seed=27)\n",
    "               ]"
   ]
  },
  {
   "cell_type": "markdown",
   "id": "0674572e",
   "metadata": {
    "papermill": {
     "duration": 0.037788,
     "end_time": "2022-03-31T10:38:16.391124",
     "exception": false,
     "start_time": "2022-03-31T10:38:16.353336",
     "status": "completed"
    },
    "tags": []
   },
   "source": [
    "##### creating funstion for model building "
   ]
  },
  {
   "cell_type": "code",
   "execution_count": 17,
   "id": "4be9e590",
   "metadata": {
    "execution": {
     "iopub.execute_input": "2022-03-31T10:38:16.476861Z",
     "iopub.status.busy": "2022-03-31T10:38:16.475516Z",
     "iopub.status.idle": "2022-03-31T10:38:16.478935Z",
     "shell.execute_reply": "2022-03-31T10:38:16.479397Z",
     "shell.execute_reply.started": "2022-03-31T10:12:43.395918Z"
    },
    "papermill": {
     "duration": 0.050382,
     "end_time": "2022-03-31T10:38:16.479551",
     "exception": false,
     "start_time": "2022-03-31T10:38:16.429169",
     "status": "completed"
    },
    "tags": []
   },
   "outputs": [],
   "source": [
    "def models_building(classifiers, X_train, y_train, X_val, y_val):\n",
    "    \"\"\"\n",
    "    This function takes in a list of classifiers\n",
    "    and both the train and validation sets\n",
    "    and return a summary of F1-score and\n",
    "    processing time as a dataframe\n",
    "\n",
    "    Input:\n",
    "    classifiers: a list of classifiers to train\n",
    "                 datatype: list\n",
    "    X_train: independent variable for training\n",
    "             datatype: series\n",
    "    y_train: dependent variable for training\n",
    "             datatype: series\n",
    "    X_val: independent variable for validation\n",
    "           datatype: series\n",
    "    y_val: dependent variable for validation\n",
    "           datatype: series\n",
    "\n",
    "    Output:\n",
    "    model_summary: F1 Score for all the classifiers\n",
    "                   datatype: dataframe\n",
    "    \"\"\"\n",
    "\n",
    "    models_summary = {}\n",
    "\n",
    "    # Pipeline to balance the classses and then to build the model\n",
    "    for clf in classifiers:\n",
    "        clf_text = Pipeline([('tfidf', TfidfVectorizer(min_df=1,\n",
    "                                                       max_df=0.9,\n",
    "                                                       ngram_range=(1, 2))),\n",
    "                             ('clf', clf)])\n",
    "\n",
    "        # Logging the Execution Time for each model\n",
    "        start_time = time.time()\n",
    "        clf_text.fit(X_train, y_train)\n",
    "        predictions = clf_text.predict(X_val)\n",
    "        run_time = time.time()-start_time\n",
    "\n",
    "        # Output for each model\n",
    "        models_summary[clf.__class__.__name__] = {\n",
    "            'F1-Macro': metrics.f1_score(y_val,\n",
    "                                         predictions,\n",
    "                                         average='macro'),\n",
    "            'F1-Accuracy': metrics.f1_score(y_val, predictions,\n",
    "                                            average='micro'),\n",
    "            'F1-Weighted': metrics.f1_score(y_val,\n",
    "                                            predictions,\n",
    "                                            average='weighted'),\n",
    "            'Execution Time': run_time}\n",
    "\n",
    "    return pd.DataFrame.from_dict(models_summary, orient='index')"
   ]
  },
  {
   "cell_type": "markdown",
   "id": "bfe0e7bf",
   "metadata": {
    "papermill": {
     "duration": 0.038015,
     "end_time": "2022-03-31T10:38:16.555867",
     "exception": false,
     "start_time": "2022-03-31T10:38:16.517852",
     "status": "completed"
    },
    "tags": []
   },
   "source": [
    "##### Excute the classifiers "
   ]
  },
  {
   "cell_type": "code",
   "execution_count": 18,
   "id": "fca2e85d",
   "metadata": {
    "execution": {
     "iopub.execute_input": "2022-03-31T10:38:16.636216Z",
     "iopub.status.busy": "2022-03-31T10:38:16.635224Z",
     "iopub.status.idle": "2022-03-31T10:42:36.709302Z",
     "shell.execute_reply": "2022-03-31T10:42:36.709818Z",
     "shell.execute_reply.started": "2022-03-31T10:12:45.536795Z"
    },
    "papermill": {
     "duration": 260.115885,
     "end_time": "2022-03-31T10:42:36.709998",
     "exception": false,
     "start_time": "2022-03-31T10:38:16.594113",
     "status": "completed"
    },
    "tags": []
   },
   "outputs": [
    {
     "data": {
      "text/html": [
       "<div>\n",
       "<style scoped>\n",
       "    .dataframe tbody tr th:only-of-type {\n",
       "        vertical-align: middle;\n",
       "    }\n",
       "\n",
       "    .dataframe tbody tr th {\n",
       "        vertical-align: top;\n",
       "    }\n",
       "\n",
       "    .dataframe thead th {\n",
       "        text-align: right;\n",
       "    }\n",
       "</style>\n",
       "<table border=\"1\" class=\"dataframe\">\n",
       "  <thead>\n",
       "    <tr style=\"text-align: right;\">\n",
       "      <th></th>\n",
       "      <th>F1-Macro</th>\n",
       "      <th>F1-Accuracy</th>\n",
       "      <th>F1-Weighted</th>\n",
       "      <th>Execution Time</th>\n",
       "    </tr>\n",
       "  </thead>\n",
       "  <tbody>\n",
       "    <tr>\n",
       "      <th>MultinomialNB</th>\n",
       "      <td>0.999110</td>\n",
       "      <td>0.999091</td>\n",
       "      <td>0.999090</td>\n",
       "      <td>6.719995</td>\n",
       "    </tr>\n",
       "    <tr>\n",
       "      <th>LinearSVC</th>\n",
       "      <td>0.997891</td>\n",
       "      <td>0.997879</td>\n",
       "      <td>0.997877</td>\n",
       "      <td>9.106623</td>\n",
       "    </tr>\n",
       "    <tr>\n",
       "      <th>LogisticRegression</th>\n",
       "      <td>0.997891</td>\n",
       "      <td>0.997879</td>\n",
       "      <td>0.997877</td>\n",
       "      <td>218.463656</td>\n",
       "    </tr>\n",
       "    <tr>\n",
       "      <th>ComplementNB</th>\n",
       "      <td>0.997587</td>\n",
       "      <td>0.997576</td>\n",
       "      <td>0.997572</td>\n",
       "      <td>6.798497</td>\n",
       "    </tr>\n",
       "    <tr>\n",
       "      <th>SGDClassifier</th>\n",
       "      <td>0.989924</td>\n",
       "      <td>0.990000</td>\n",
       "      <td>0.989957</td>\n",
       "      <td>7.858136</td>\n",
       "    </tr>\n",
       "    <tr>\n",
       "      <th>KNeighborsClassifier</th>\n",
       "      <td>0.969532</td>\n",
       "      <td>0.969697</td>\n",
       "      <td>0.969443</td>\n",
       "      <td>10.290909</td>\n",
       "    </tr>\n",
       "  </tbody>\n",
       "</table>\n",
       "</div>"
      ],
      "text/plain": [
       "                      F1-Macro  F1-Accuracy  F1-Weighted  Execution Time\n",
       "MultinomialNB         0.999110     0.999091     0.999090        6.719995\n",
       "LinearSVC             0.997891     0.997879     0.997877        9.106623\n",
       "LogisticRegression    0.997891     0.997879     0.997877      218.463656\n",
       "ComplementNB          0.997587     0.997576     0.997572        6.798497\n",
       "SGDClassifier         0.989924     0.990000     0.989957        7.858136\n",
       "KNeighborsClassifier  0.969532     0.969697     0.969443       10.290909"
      ]
     },
     "execution_count": 18,
     "metadata": {},
     "output_type": "execute_result"
    }
   ],
   "source": [
    "classifiers_df = models_building(classifiers, X_train, y_train, X_val, y_val)\n",
    "ordered_df = classifiers_df.sort_values('F1-Macro', ascending=False)\n",
    "ordered_df"
   ]
  },
  {
   "cell_type": "markdown",
   "id": "369feb56",
   "metadata": {
    "papermill": {
     "duration": 0.038449,
     "end_time": "2022-03-31T10:42:36.787125",
     "exception": false,
     "start_time": "2022-03-31T10:42:36.748676",
     "status": "completed"
    },
    "tags": []
   },
   "source": [
    "\n",
    "5.1.2 Comparing Classification Methods\n",
    "\n",
    "The most performing is the Multinomial Naive Bayes with F1-Macro of 99.9% and accuracy of 99.9% while closely followed by Complement Naive Bayes, Logistic Regression, Linear Support Vector Classifier, Support Vector Machine etc.\n",
    "\n",
    "We will proceed with the first two algorithms (to see which will come out better) by applying hyperparameter tunining, as they are the most performing models and considering their execution time."
   ]
  },
  {
   "cell_type": "markdown",
   "id": "b1428a1d",
   "metadata": {
    "papermill": {
     "duration": 0.038491,
     "end_time": "2022-03-31T10:42:36.864261",
     "exception": false,
     "start_time": "2022-03-31T10:42:36.825770",
     "status": "completed"
    },
    "tags": []
   },
   "source": [
    "## 5.2 Hyperparameter tuning "
   ]
  },
  {
   "cell_type": "code",
   "execution_count": 19,
   "id": "0b026fbf",
   "metadata": {
    "execution": {
     "iopub.execute_input": "2022-03-31T10:42:36.948114Z",
     "iopub.status.busy": "2022-03-31T10:42:36.947462Z",
     "iopub.status.idle": "2022-03-31T10:42:36.954122Z",
     "shell.execute_reply": "2022-03-31T10:42:36.954570Z",
     "shell.execute_reply.started": "2022-03-31T10:18:21.917011Z"
    },
    "papermill": {
     "duration": 0.05179,
     "end_time": "2022-03-31T10:42:36.954771",
     "exception": false,
     "start_time": "2022-03-31T10:42:36.902981",
     "status": "completed"
    },
    "tags": []
   },
   "outputs": [],
   "source": [
    "# Refining the train-test split for validation\n",
    "X_train, X_val, y_train, y_val = train_test_split(X, y, test_size=0.01)"
   ]
  },
  {
   "cell_type": "markdown",
   "id": "4e7d959b",
   "metadata": {
    "papermill": {
     "duration": 0.038548,
     "end_time": "2022-03-31T10:42:37.032626",
     "exception": false,
     "start_time": "2022-03-31T10:42:36.994078",
     "status": "completed"
    },
    "tags": []
   },
   "source": [
    "##### 5.2.1 Multinomial naive baiyes"
   ]
  },
  {
   "cell_type": "code",
   "execution_count": 20,
   "id": "8dc43c55",
   "metadata": {
    "execution": {
     "iopub.execute_input": "2022-03-31T10:42:37.123941Z",
     "iopub.status.busy": "2022-03-31T10:42:37.118491Z",
     "iopub.status.idle": "2022-03-31T10:42:46.511371Z",
     "shell.execute_reply": "2022-03-31T10:42:46.510478Z",
     "shell.execute_reply.started": "2022-03-31T10:19:01.225637Z"
    },
    "papermill": {
     "duration": 9.439663,
     "end_time": "2022-03-31T10:42:46.511514",
     "exception": false,
     "start_time": "2022-03-31T10:42:37.071851",
     "status": "completed"
    },
    "tags": []
   },
   "outputs": [
    {
     "name": "stdout",
     "output_type": "stream",
     "text": [
      "              precision    recall  f1-score   support\n",
      "\n",
      "         afr       1.00      1.00      1.00        38\n",
      "         eng       1.00      1.00      1.00        27\n",
      "         nbl       1.00      1.00      1.00        35\n",
      "         nso       1.00      1.00      1.00        23\n",
      "         sot       1.00      1.00      1.00        32\n",
      "         ssw       1.00      1.00      1.00        34\n",
      "         tsn       1.00      1.00      1.00        34\n",
      "         tso       1.00      1.00      1.00        28\n",
      "         ven       1.00      1.00      1.00        27\n",
      "         xho       1.00      1.00      1.00        24\n",
      "         zul       1.00      1.00      1.00        28\n",
      "\n",
      "    accuracy                           1.00       330\n",
      "   macro avg       1.00      1.00      1.00       330\n",
      "weighted avg       1.00      1.00      1.00       330\n",
      "\n"
     ]
    }
   ],
   "source": [
    "# Creating a pipeline for the gridsearch\n",
    "param_grid = {'alpha': [0.1, 1, 5, 10]}  # setting parameter grid\n",
    "\n",
    "tuned_mnb = Pipeline([('tfidf', TfidfVectorizer(min_df=2,\n",
    "                                                max_df=0.9,\n",
    "                                                ngram_range=(1, 2))),\n",
    "                      ('mnb', GridSearchCV(MultinomialNB(),\n",
    "                                           param_grid=param_grid,\n",
    "                                           cv=5,\n",
    "                                           n_jobs=-1,\n",
    "                                           scoring='f1_weighted'))\n",
    "                      ])\n",
    "\n",
    "tuned_mnb.fit(X_train, y_train)  # Fitting the model\n",
    "\n",
    "y_pred_mnb = tuned_mnb.predict(X_val)  # predicting the fit on validation set\n",
    "\n",
    "print(classification_report(y_val, y_pred_mnb))"
   ]
  },
  {
   "cell_type": "markdown",
   "id": "0c0ab46f",
   "metadata": {
    "papermill": {
     "duration": 0.045787,
     "end_time": "2022-03-31T10:42:46.610867",
     "exception": false,
     "start_time": "2022-03-31T10:42:46.565080",
     "status": "completed"
    },
    "tags": []
   },
   "source": [
    "#### 5.3 Final Submission "
   ]
  },
  {
   "cell_type": "code",
   "execution_count": 21,
   "id": "40db2348",
   "metadata": {
    "execution": {
     "iopub.execute_input": "2022-03-31T10:42:46.752236Z",
     "iopub.status.busy": "2022-03-31T10:42:46.736618Z",
     "iopub.status.idle": "2022-03-31T10:42:47.103889Z",
     "shell.execute_reply": "2022-03-31T10:42:47.103274Z",
     "shell.execute_reply.started": "2022-03-31T10:22:24.482903Z"
    },
    "papermill": {
     "duration": 0.450063,
     "end_time": "2022-03-31T10:42:47.104037",
     "exception": false,
     "start_time": "2022-03-31T10:42:46.653974",
     "status": "completed"
    },
    "tags": []
   },
   "outputs": [],
   "source": [
    "submission_df = pd.DataFrame(test['index'])\n",
    "submission_df['lang_id'] = tuned_mnb.predict(test['text'])\n",
    "submission_df.to_csv('submission_tuned_multinomial_NB.csv', index=False)"
   ]
  },
  {
   "cell_type": "markdown",
   "id": "ab5eb4e8",
   "metadata": {
    "papermill": {
     "duration": 0.038881,
     "end_time": "2022-03-31T10:42:47.182848",
     "exception": false,
     "start_time": "2022-03-31T10:42:47.143967",
     "status": "completed"
    },
    "tags": []
   },
   "source": [
    "## 6. Conclusion\n",
    "\n",
    "\n",
    "Several algorithms were tried and Multinomial Naive Bayes classifier was the most performing. It performed very well on the training and validation datasets with an accuracy score of over 99% and F1 Macro score of over 99%. After testing the fitted model on the held-out/unseen dataset, it was able to predict the classes of languages with an F1 Score of about 97%."
   ]
  },
  {
   "cell_type": "markdown",
   "id": "1984c9b3",
   "metadata": {
    "papermill": {
     "duration": 0.039712,
     "end_time": "2022-03-31T10:42:47.262775",
     "exception": false,
     "start_time": "2022-03-31T10:42:47.223063",
     "status": "completed"
    },
    "tags": []
   },
   "source": [
    "## 7. References\n",
    "\n",
    "1. Hyperparameters and Model Validation (An overview of classification model hyperparameters, hyperparameter tuning, and model validation) - Explore Data Science Academy\n",
    "2. https://scikit-learn.org/stable/modules/grid_search.html\n",
    "\n"
   ]
  },
  {
   "cell_type": "code",
   "execution_count": null,
   "id": "e18c9f76",
   "metadata": {
    "papermill": {
     "duration": 0.039521,
     "end_time": "2022-03-31T10:42:47.341800",
     "exception": false,
     "start_time": "2022-03-31T10:42:47.302279",
     "status": "completed"
    },
    "tags": []
   },
   "outputs": [],
   "source": []
  }
 ],
 "metadata": {
  "kernelspec": {
   "display_name": "Python 3",
   "language": "python",
   "name": "python3"
  },
  "language_info": {
   "codemirror_mode": {
    "name": "ipython",
    "version": 3
   },
   "file_extension": ".py",
   "mimetype": "text/x-python",
   "name": "python",
   "nbconvert_exporter": "python",
   "pygments_lexer": "ipython3",
   "version": "3.7.12"
  },
  "papermill": {
   "default_parameters": {},
   "duration": 286.321124,
   "end_time": "2022-03-31T10:42:48.294451",
   "environment_variables": {},
   "exception": null,
   "input_path": "__notebook__.ipynb",
   "output_path": "__notebook__.ipynb",
   "parameters": {},
   "start_time": "2022-03-31T10:38:01.973327",
   "version": "2.3.3"
  }
 },
 "nbformat": 4,
 "nbformat_minor": 5
}
